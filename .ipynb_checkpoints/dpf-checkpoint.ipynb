{
 "cells": [
  {
   "cell_type": "markdown",
   "metadata": {},
   "source": [
    "## 0.0 Setup"
   ]
  },
  {
   "cell_type": "code",
   "execution_count": 21,
   "metadata": {},
   "outputs": [],
   "source": [
    "import math"
   ]
  },
  {
   "cell_type": "code",
   "execution_count": 22,
   "metadata": {},
   "outputs": [
    {
     "name": "stdout",
     "output_type": "stream",
     "text": [
      "Please select the device:\n",
      "1. UNUICTPPFF Machine\n",
      "2. NX2-RGNeon Machine\n",
      "3. PF1000 27D Machine\n",
      "4. Custom Parameters\n",
      "Enter the number corresponding to your device: 1\n"
     ]
    }
   ],
   "source": [
    "# Defining parameters for specific devices\n",
    "print(\"Please select the device:\")\n",
    "print(\"1. UNUICTPPFF Machine\")\n",
    "print(\"2. NX2-RGNeon Machine\")\n",
    "print(\"3. PF1000 27D Machine\")\n",
    "print(\"4. Custom Parameters\")\n",
    "\n",
    "device = int(input(\"Enter the number corresponding to your device: \"))\n",
    "\n",
    "if device == 1:\n",
    "    L0, C0, RADB, RADA, Z0, R0, V0, P0, MW, ZN, dissociatenumber, massf, CURRF, massfr, currfr = 110, 30, 3.2, 0.95, 16, 12, 15, 3.5, 4, 1, 2, 0.08, 0.7, 0.16, 0.7\n",
    "elif device == 2:\n",
    "    L0, C0, RADB, RADA, Z0, R0, V0, P0, MW, ZN, dissociatenumber, massf, CURRF, massfr, currfr = 20, 28, 4.1, 1.9, 5, 2.3, 11, 2.63, 20, 10, 1, 0.0635, 0.7, 0.16, 0.7\n",
    "elif device == 3:\n",
    "    L0, C0, RADB, RADA, Z0, R0, V0, P0, MW, ZN, dissociatenumber, massf, CURRF, massfr, currfr = 33, 1332, 16, 11.55, 60, 6.3, 27, 3.5, 4, 1, 2, 0.14, 0.7, 0.35, 0.7\n",
    "elif device == 4:\n",
    "    L0 = int(input(\"Enter L0: \"))\n",
    "    C0 = int(input(\"Enter C0: \"))\n",
    "    RADB = float(input(\"Enter RADB: \"))\n",
    "    RADA = float(input(\"Enter RADA: \"))\n",
    "    Z0 = int(input(\"Enter Z0: \"))\n",
    "    R0 = float(input(\"Enter R0: \"))\n",
    "    V0 = int(input(\"Enter V0: \"))\n",
    "    P0 = float(input(\"Enter P0: \"))\n",
    "    MW = int(input(\"Enter MW: \"))\n",
    "    ZN = int(input(\"Enter ZN: \"))\n",
    "    dissociatenumber = int(input(\"Enter dissociatenumber: \"))\n",
    "    massf = float(input(\"Enter massf: \"))\n",
    "    CURRF = float(input(\"Enter CURRF: \"))\n",
    "    massfr = float(input(\"Enter massfr: \"))\n",
    "    currfr = float(input(\"Enter currfr: \"))\n",
    "else:\n",
    "    print(\"Invalid input. Please enter a number between 1 and 4.\")\n"
   ]
  },
  {
   "cell_type": "code",
   "execution_count": 23,
   "metadata": {},
   "outputs": [],
   "source": [
    "#Custom Parameters\n",
    "\n",
    "tapered = True\n",
    "taperEnd = 0\n",
    "taperStart = 0\n",
    "\n",
    "\n",
    "# L0 = 33\n",
    "# C0 = 1332\n",
    "# RADB = 16\n",
    "# RADA = 11.55\n",
    "# Z0 = 60\n",
    "# R0 = 6.3\n",
    "# V0 = 27\n",
    "# P0 = 3.5\n",
    "# MW = 4\n",
    "# ZN = 1\n",
    "# dissociatenumber = 2\n",
    "\n",
    "# massf = 0.14\n",
    "# CURRF = 0.7\n",
    "# massfr = 0.35\n",
    "# currfr = 0.7"
   ]
  },
  {
   "cell_type": "code",
   "execution_count": 24,
   "metadata": {},
   "outputs": [],
   "source": [
    "# Constants\n",
    "Mu = 1.257 * 10 ** -6\n",
    "Pi = 3.142\n",
    "bc = 1.38 * 10 ** -23\n",
    "mi = 1.67 * 10 ** -27\n",
    "MUK = Mu / (8 * Pi * Pi * bc)\n",
    "CON11 = 1.6 * 10 ** -20\n",
    "CON12 = 9.999999 * 10 ** -21\n",
    "CON2 = 4.6 * 10 ** -31\n",
    "UGCONS = 8.310001 * 10 ** 3\n",
    "FRF = 0.3\n",
    "fe = 1 / 3\n",
    "FLAG = 0\n",
    "\n",
    "EINP = 0"
   ]
  },
  {
   "cell_type": "code",
   "execution_count": 25,
   "metadata": {},
   "outputs": [],
   "source": [
    "# Vary g value based on whether not using D-T or Hydrogen based gases\n",
    "g = 1.66667 if ZN in [1, 2] else 1.3\n",
    "G1 = 2 / (g + 1)\n",
    "G2 = (g - 1) / g\n",
    "GCAP = (g + 1) / (g - 1)\n",
    "\n",
    "# Calculate mabient number density and ratios\n",
    "N0 = 2.69 * (10 ** 25) * P0 / 760\n",
    "C = RADB / RADA\n",
    "f = Z0 / RADA\n",
    "\n",
    "# Convert to SI values\n",
    "C0 = C0 * 10 ** -6\n",
    "L0 = L0 * 10 ** -9\n",
    "RADB = RADB * 0.01\n",
    "RADA = RADA * 0.01\n",
    "Z0 = Z0 * 10 ** -2\n",
    "V0 = V0 * 1000\n",
    "RHO = P0 * 2.33 * (10 ** -4) * MW / 4\n",
    "TM = 0\n",
    "\n",
    "if tapered:\n",
    "    taperStart = taperStart * 0.01\n",
    "    taperEnd = taperEnd * 0.01\n",
    "    zTaperStart = taperStart / Z0\n",
    "    taperGrad = (RADA - taperEnd) / (Z0 - taperStart)"
   ]
  },
  {
   "cell_type": "code",
   "execution_count": 26,
   "metadata": {},
   "outputs": [],
   "source": [
    "# Calculate characteristic quantities and scaling parameters\n",
    "\n",
    "I0 = V0 / math.sqrt(L0 / C0)\n",
    "T0 = math.sqrt(L0 * C0)\n",
    "TA = math.sqrt(4 * math.pi * math.pi * (C * C - 1) / (Mu * math.log(C))) * ((Z0 * math.sqrt(RHO)) / (I0 / RADA)) * ((math.sqrt(massf)) / CURRF)\n",
    "\n",
    "ZZCHAR = Z0 / TA\n",
    "AL = T0 / TA\n",
    "AA = math.sqrt((g + 1) * (C * C - 1) / math.log(C)) * (f / 2) * (math.sqrt(massf / massfr)) * (currfr / CURRF)\n",
    "\n",
    "RESF = R0 / (math.sqrt(L0 / C0))\n",
    "BE = 2 * (10 ** -7) * math.log(C) * Z0 * CURRF / L0\n",
    "BF = BE / (math.log(C) * f)\n",
    "\n",
    "VPINCHCH = ZZCHAR * AA / f\n",
    "TPINCHCH = RADA / VPINCHCH\n",
    "\n",
    "# Calculate ratio of characteristic capacitor time to sum of characteristic axial & radial times\n",
    "ALT = (AL * AA) / (1 + AA)\n"
   ]
  },
  {
   "cell_type": "code",
   "execution_count": 27,
   "metadata": {},
   "outputs": [
    {
     "name": "stdout",
     "output_type": "stream",
     "text": [
      "RHO: 0.0008155000000000001, I0: 5424489.921558606, T0: 6.629932126349409e-06, TA: 1.8351812848861209e-06\n",
      "ZZCHAR: 326943.1771898393, VPINCHCH: 283511.9505664532, TPINCHCH: 4.0739023441245597e-07\n",
      "C: 1.3852813852813852, f: 5.194805194805195, AL: 3.6126851232361052, AA: 4.504725763819169, BE: 0.829571998874127, RESF: 1265.7143150303416, ALT: 2.956397184792169\n"
     ]
    }
   ],
   "source": [
    "# Corresponding to VBA Line 415\n",
    "print(f\"RHO: {RHO}, I0: {I0}, T0: {T0}, TA: {TA}\")\n",
    "\n",
    "# Corresponding to VBA Line 419\n",
    "print(f\"ZZCHAR: {ZZCHAR}, VPINCHCH: {VPINCHCH}, TPINCHCH: {TPINCHCH}\")\n",
    "\n",
    "# Corresponding to VBA Line 422\n",
    "print(f\"C: {C}, f: {f}, AL: {AL}, AA: {AA}, BE: {BE}, RESF: {RESF}, ALT: {ALT}\")"
   ]
  },
  {
   "cell_type": "code",
   "execution_count": null,
   "metadata": {},
   "outputs": [],
   "source": []
  }
 ],
 "metadata": {
  "kernelspec": {
   "display_name": "Python 3 (ipykernel)",
   "language": "python",
   "name": "python3"
  },
  "language_info": {
   "codemirror_mode": {
    "name": "ipython",
    "version": 3
   },
   "file_extension": ".py",
   "mimetype": "text/x-python",
   "name": "python",
   "nbconvert_exporter": "python",
   "pygments_lexer": "ipython3",
   "version": "3.9.16"
  }
 },
 "nbformat": 4,
 "nbformat_minor": 2
}
